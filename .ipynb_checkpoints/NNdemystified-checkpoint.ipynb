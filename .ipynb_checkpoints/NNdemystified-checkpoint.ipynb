{
 "cells": [
  {
   "cell_type": "code",
   "execution_count": 2,
   "metadata": {
    "collapsed": false
   },
   "outputs": [
    {
     "ename": "NameError",
     "evalue": "name 'plot' is not defined",
     "output_type": "error",
     "traceback": [
      "\u001b[0;31m---------------------------------------------------------------------------\u001b[0m",
      "\u001b[0;31mNameError\u001b[0m                                 Traceback (most recent call last)",
      "\u001b[0;32m<ipython-input-2-a82bfc6544d1>\u001b[0m in \u001b[0;36m<module>\u001b[0;34m()\u001b[0m\n\u001b[1;32m     28\u001b[0m \u001b[0;34m\u001b[0m\u001b[0m\n\u001b[1;32m     29\u001b[0m \u001b[0mtestInput\u001b[0m \u001b[0;34m=\u001b[0m \u001b[0mnp\u001b[0m\u001b[0;34m.\u001b[0m\u001b[0marange\u001b[0m\u001b[0;34m(\u001b[0m\u001b[0;34m-\u001b[0m\u001b[0;36m6\u001b[0m\u001b[0;34m,\u001b[0m \u001b[0;36m6\u001b[0m\u001b[0;34m,\u001b[0m \u001b[0;36m0.01\u001b[0m\u001b[0;34m)\u001b[0m\u001b[0;34m\u001b[0m\u001b[0m\n\u001b[0;32m---> 30\u001b[0;31m \u001b[0mplot\u001b[0m\u001b[0;34m(\u001b[0m\u001b[0mtestInput\u001b[0m\u001b[0;34m,\u001b[0m \u001b[0msigmoid\u001b[0m\u001b[0;34m(\u001b[0m\u001b[0mtestInput\u001b[0m\u001b[0;34m)\u001b[0m\u001b[0;34m,\u001b[0m \u001b[0mlinewidth\u001b[0m\u001b[0;34m=\u001b[0m\u001b[0;36m2\u001b[0m\u001b[0;34m)\u001b[0m\u001b[0;34m\u001b[0m\u001b[0m\n\u001b[0m\u001b[1;32m     31\u001b[0m \u001b[0mgrid\u001b[0m\u001b[0;34m(\u001b[0m\u001b[0;36m1\u001b[0m\u001b[0;34m)\u001b[0m\u001b[0;34m\u001b[0m\u001b[0m\n\u001b[1;32m     32\u001b[0m \u001b[0;34m\u001b[0m\u001b[0m\n",
      "\u001b[0;31mNameError\u001b[0m: name 'plot' is not defined"
     ]
    }
   ],
   "source": [
    "import numpy as np\n",
    "import matplotlib.pyplot as plot\n",
    "\n",
    "# PART 2 - Forward Propagation https://www.youtube.com/watch?v=UJwK6jAStmg\n",
    "class  Neural_Network(object):\n",
    "\tdef __init__(self):\n",
    "\t\t# define hyperparameters\n",
    "\t\tself.inputLayerSize = 2\n",
    "\t\tself.outputLayerSize = 1\n",
    "\t\tself.hiddenLayerSize = 3\n",
    "\n",
    "\t\t# Weights (Parameters) initialize matrices within init method\n",
    "\t\tself.W1 = np.random.randn(self.inputLayerSize, \\\n",
    "\t\t\t\t\t\t\t\t  self.hiddenLayerSize)\n",
    "\t\tself.W2 = np.random.randn(self.hiddenLayerSize, \\\n",
    "\t\t\t\t\t\t\t\t  self.outputLayerSize)\n",
    "\n",
    "\tdef forward(self, X):\n",
    "\t\t# propagate inputs through network\n",
    "\t\t# use matrices to pass through multiple inputs at once for computational speedups esp when using matlab or numpy\n",
    "\t\t# use numpy's built in dot method\n",
    "\t\tself.z2 = np.dot(X, self.W1)\n",
    "\t\tself.a2 = self.sigmoid(self.z2)\n",
    "\t\tself.z3 = np.dot(self.a2, self.W2)\n",
    "\t\tyHat = self.sigmoid(self.z3)\n",
    "\t\treturn yHat\n",
    "\n",
    "\tdef sigmoid(z):\n",
    "\t\t# apply sigmoid activation function\n",
    "\t\treturn 1/(1+np.exp(-z))\n",
    "\n",
    "\n",
    "testInput = np.arange(-6, 6, 0.01)\n",
    "plot(testInput, sigmoid(testInput), linewidth=2)\n",
    "grid(1)\n",
    "\n"
   ]
  },
  {
   "cell_type": "code",
   "execution_count": null,
   "metadata": {
    "collapsed": true
   },
   "outputs": [],
   "source": [
    "# PART 3 - Gradient Descent https://www.youtube.com/watch?v=5u0jaA3qAGk\n",
    "# need to quantify how bad our predictions are with cost function\n",
    "\n",
    "NN = Neural_Network()"
   ]
  },
  {
   "cell_type": "code",
   "execution_count": null,
   "metadata": {
    "collapsed": true
   },
   "outputs": [],
   "source": [
    "yHat = NN.forward(X)"
   ]
  }
 ],
 "metadata": {
  "kernelspec": {
   "display_name": "Python 2",
   "language": "python",
   "name": "python2"
  },
  "language_info": {
   "codemirror_mode": {
    "name": "ipython",
    "version": 2
   },
   "file_extension": ".py",
   "mimetype": "text/x-python",
   "name": "python",
   "nbconvert_exporter": "python",
   "pygments_lexer": "ipython2",
   "version": "2.7.11"
  }
 },
 "nbformat": 4,
 "nbformat_minor": 0
}
