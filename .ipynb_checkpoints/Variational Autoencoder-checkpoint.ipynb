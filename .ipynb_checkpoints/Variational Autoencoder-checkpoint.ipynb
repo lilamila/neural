{
 "cells": [
  {
   "cell_type": "markdown",
   "metadata": {},
   "source": [
    "### Variational Autoencoders\n",
    "\n",
    "(notes from FFlabs' [blog](http://blog.fastforwardlabs.com/))\n",
    "A development in unsupervised machine learning that combines probabilistic Bayesian inference with deep learning\n",
    "\n",
    "Traditional autoencoders models (usually multilayer ANNs) designed to output reconstruction of input.\n",
    "\n",
    "Representation learning --> the model learns own definition of 'meaningful' representation based only on data.\n",
    "\n",
    "Many deep learning systems in production today rely on expensive-to-obtain labeled data.\n",
    "\n",
    "Though trained holistically, autoencoders often built for part instead of whole.\n",
    "\n",
    "VAEs incorp regularization by explicitely learning joint distribution over data and a set of latent variables that is most compatibe with observed datapoints and some designated prior distribution over latent space.\n",
    "\n",
    "### VAE Setup\n",
    "\n",
    "A vanilla autoencoder is deterministic, a variational autoencoder is stochastic.\n",
    "\n",
    "VAE represents a directed probablistic graphical model"
   ]
  },
  {
   "cell_type": "code",
   "execution_count": null,
   "metadata": {
    "collapsed": true
   },
   "outputs": [],
   "source": [
    "import tensorflow as tf\n",
    "from tensorflow.examples.tutorials.mnist import input_data\n",
    "\n",
    "import vae # this is our model\n",
    "\n",
    "IMG_DIM = 28\n",
    "ARCHITECTURE = [IMG_DIM**2, # 784 pixels\n",
    "               500,500, # intermediate encoding\n",
    "               50] # latent space dims\n",
    "# (and symmetrically back out again)\n",
    "HYPERPARAMS = {\n",
    "    \"batch_size\" : 128,\n",
    "    \"learning_rate\": 1E-3,\n",
    "    \"dropout\": 0.9,\n",
    "    \"lambda_12_reg\": 1E-5,\n",
    "    \"nonlinearity\": tf.nn.elu,\n",
    "    \"squashing\": tf.nn.sigmoid\n",
    "}\n",
    "\n",
    "mnist = input_data.read_data_sets(\"mnist_data\")\n",
    "v = vae.VAE(ARCHITECTURE, HYPERPARAMS)\n",
    "v.train(mnist, max_iter=20000)"
   ]
  }
 ],
 "metadata": {
  "kernelspec": {
   "display_name": "Python 2",
   "language": "python",
   "name": "python2"
  },
  "language_info": {
   "codemirror_mode": {
    "name": "ipython",
    "version": 2
   },
   "file_extension": ".py",
   "mimetype": "text/x-python",
   "name": "python",
   "nbconvert_exporter": "python",
   "pygments_lexer": "ipython2",
   "version": "2.7.11"
  }
 },
 "nbformat": 4,
 "nbformat_minor": 0
}
